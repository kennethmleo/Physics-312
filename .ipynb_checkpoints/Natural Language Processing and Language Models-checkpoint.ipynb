{
 "cells": [
  {
   "cell_type": "markdown",
   "metadata": {},
   "source": [
    "### Natural Language Processing and Language Models"
   ]
  },
  {
   "cell_type": "markdown",
   "metadata": {},
   "source": [
    "What is Natural Language Processing (NLP)?\n",
    "\n",
    "“How computers process/understand the natural language and to be able to extract information that can be used in different computer models”\n",
    "\n",
    "But what is  **natural language**? Natural language is something that is being used by humans and evolves naturally through repetitive use (speech, sign language, non-verbal cues).\n",
    "\n",
    "Some applications of natural lanuage processing:\n",
    "1. Intelligent speakers\n",
    "2. Chatbots (ChatGPT, Llama, Alpaca)\n",
    "3. Translation (text-to-speech)\n",
    "4. Text generation\n",
    "5. Summarization\n"
   ]
  },
  {
   "cell_type": "markdown",
   "metadata": {},
   "source": [
    "What is a language model?\n",
    "\n",
    "In its simplest form, a language model is a probability distribution such that, given a sequence of words, a language model will give the probability of all the words being chosen next in the available vocabulary."
   ]
  },
  {
   "cell_type": "code",
   "execution_count": null,
   "metadata": {},
   "outputs": [],
   "source": []
  }
 ],
 "metadata": {
  "kernelspec": {
   "display_name": "Python 3",
   "language": "python",
   "name": "python3"
  },
  "language_info": {
   "codemirror_mode": {
    "name": "ipython",
    "version": 3
   },
   "file_extension": ".py",
   "mimetype": "text/x-python",
   "name": "python",
   "nbconvert_exporter": "python",
   "pygments_lexer": "ipython3",
   "version": "3.7.4"
  }
 },
 "nbformat": 4,
 "nbformat_minor": 2
}
